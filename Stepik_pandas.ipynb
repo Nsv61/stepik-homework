{
  "nbformat": 4,
  "nbformat_minor": 0,
  "metadata": {
    "colab": {
      "name": "Stepik_pandas.ipynb",
      "provenance": [],
      "collapsed_sections": [],
      "authorship_tag": "ABX9TyNMCB1Nz0klHS96W2+93Ogt",
      "include_colab_link": true
    },
    "kernelspec": {
      "name": "python3",
      "display_name": "Python 3"
    },
    "language_info": {
      "name": "python"
    }
  },
  "cells": [
    {
      "cell_type": "markdown",
      "metadata": {
        "id": "view-in-github",
        "colab_type": "text"
      },
      "source": [
        "<a href=\"https://colab.research.google.com/github/Nsv61/stepik-homework/blob/main/Stepik_pandas.ipynb\" target=\"_parent\"><img src=\"https://colab.research.google.com/assets/colab-badge.svg\" alt=\"Open In Colab\"/></a>"
      ]
    },
    {
      "cell_type": "code",
      "execution_count": 15,
      "metadata": {
        "colab": {
          "base_uri": "https://localhost:8080/"
        },
        "id": "YZ915uMCpm-S",
        "outputId": "10948f3c-4fc6-4dfd-a63f-86e656945967"
      },
      "outputs": [
        {
          "output_type": "stream",
          "name": "stdout",
          "text": [
            "      Unnamed: 0  attack_type  id  localized_name  name  primary_attr  roles\n",
            "legs                                                                        \n",
            "0             11           11  11              11    11            11     11\n",
            "2             95           95  95              95    95            95     95\n",
            "4              7            7   7               7     7             7      7\n",
            "6              3            3   3               3     3             3      3\n",
            "8              1            1   1               1     1             1      1\n"
          ]
        }
      ],
      "source": [
        "import pandas as pd\n",
        "\n",
        "df = pd.read_csv('dota_hero_stats.csv')\n",
        "# df.info()\n",
        "\n",
        "df_grp = df.groupby('legs').count()\n",
        "print(df_grp)"
      ]
    }
  ]
}